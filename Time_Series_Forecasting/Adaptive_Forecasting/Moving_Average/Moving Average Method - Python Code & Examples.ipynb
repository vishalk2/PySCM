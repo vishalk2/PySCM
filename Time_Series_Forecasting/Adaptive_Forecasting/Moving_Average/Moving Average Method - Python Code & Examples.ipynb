{
 "cells": [
  {
   "cell_type": "code",
   "execution_count": 1,
   "metadata": {},
   "outputs": [],
   "source": [
    "import numpy as np\n",
    "import pandas as pd\n",
    "import matplotlib.pyplot as plt"
   ]
  },
  {
   "cell_type": "code",
   "execution_count": 2,
   "metadata": {},
   "outputs": [],
   "source": [
    "class MovingAverage():\n",
    "    \n",
    "    def __init__(self,N,t):\n",
    "        \n",
    "        self.periods = N # N-recent periods\n",
    "        self.period = t # Period at or after which Level & Forecast is to be estimated\n",
    "        self.demand_data = ['Dt'] # Demand Data\n",
    "        self.level = {} # Calculated Level for t & t+1 periods after N-recent periods\n",
    "        self.forecast = {} # Calculated Forecast for t+1 & t+2 periods\n",
    "        self.forecast_error = {} # Calculated forecast error\n",
    "        \n",
    "    def add_demand_data(self): # Enables the user to insert demand data\n",
    "        self.demand_data += list(map(float,input().split()))\n",
    "        \n",
    "    def perform_analysis(self): # Method for performing analysis\n",
    "        \n",
    "        # Assigning variables for defined attributes\n",
    "        Dt = self.demand_data\n",
    "        Lt = self.level\n",
    "        N = self.periods\n",
    "        Ft = self.forecast\n",
    "        t = self.period\n",
    "        Et = self.forecast_error\n",
    "        \n",
    "        # L(t)\n",
    "        Lt['L'+str(t)] = sum(Dt[t:t-N:-1])/N\n",
    "        \n",
    "        # F(t+1) = L(t)\n",
    "        Ft['F'+str(t+1)] = Lt['L'+str(t)]\n",
    "        \n",
    "        # Calculating Forecast error\n",
    "        Et['E'+str(t+1)] = Dt[t+1] - Ft['F'+str(t+1)]\n",
    "        \n",
    "        # L(t+1)\n",
    "        Lt['L'+str(t+1)] = sum(Dt[t+1:t-N+1:-1])/N\n",
    "        \n",
    "        # F(t+2) = L(t+1)\n",
    "        Ft['F'+str(t+2)] = Lt['L'+str(t+1)]\n",
    "        \n",
    "        print('Analysis Complete')"
   ]
  },
  {
   "cell_type": "markdown",
   "metadata": {},
   "source": [
    "--------------------"
   ]
  },
  {
   "cell_type": "markdown",
   "metadata": {},
   "source": [
    "# Examples"
   ]
  },
  {
   "attachments": {
    "E1.png": {
     "image/png": "[encoded data removed]"
    }
   },
   "cell_type": "markdown",
   "metadata": {},
   "source": [
    "<b>Example - 1</b>\n",
    "![E1.png](attachment:E1.png)"
   ]
  },
  {
   "cell_type": "code",
   "execution_count": 3,
   "metadata": {},
   "outputs": [],
   "source": [
    "s = MovingAverage(4,4)"
   ]
  },
  {
   "cell_type": "code",
   "execution_count": 4,
   "metadata": {},
   "outputs": [
    {
     "name": "stdout",
     "output_type": "stream",
     "text": [
      "120 127 114 122 125\n"
     ]
    }
   ],
   "source": [
    "s.add_demand_data()"
   ]
  },
  {
   "cell_type": "code",
   "execution_count": 5,
   "metadata": {},
   "outputs": [
    {
     "name": "stdout",
     "output_type": "stream",
     "text": [
      "Analysis Complete\n"
     ]
    }
   ],
   "source": [
    "s.perform_analysis()"
   ]
  },
  {
   "cell_type": "code",
   "execution_count": 6,
   "metadata": {},
   "outputs": [
    {
     "data": {
      "text/plain": [
       "['Dt', 120.0, 127.0, 114.0, 122.0, 125.0]"
      ]
     },
     "execution_count": 6,
     "metadata": {},
     "output_type": "execute_result"
    }
   ],
   "source": [
    "s.demand_data"
   ]
  },
  {
   "cell_type": "code",
   "execution_count": 7,
   "metadata": {},
   "outputs": [
    {
     "data": {
      "text/plain": [
       "{'L4': 120.75, 'L5': 122.0}"
      ]
     },
     "execution_count": 7,
     "metadata": {},
     "output_type": "execute_result"
    }
   ],
   "source": [
    "s.level"
   ]
  },
  {
   "cell_type": "code",
   "execution_count": 8,
   "metadata": {},
   "outputs": [
    {
     "data": {
      "text/plain": [
       "{'F5': 120.75, 'F6': 122.0}"
      ]
     },
     "execution_count": 8,
     "metadata": {},
     "output_type": "execute_result"
    }
   ],
   "source": [
    "s.forecast"
   ]
  },
  {
   "cell_type": "code",
   "execution_count": 9,
   "metadata": {},
   "outputs": [
    {
     "data": {
      "text/plain": [
       "{'E5': 4.25}"
      ]
     },
     "execution_count": 9,
     "metadata": {},
     "output_type": "execute_result"
    }
   ],
   "source": [
    "s.forecast_error"
   ]
  },
  {
   "cell_type": "code",
   "execution_count": null,
   "metadata": {},
   "outputs": [],
   "source": []
  },
  {
   "cell_type": "markdown",
   "metadata": {},
   "source": [
    "--------------------END------------------"
   ]
  },
  {
   "cell_type": "markdown",
   "metadata": {},
   "source": [
    "# References\n",
    "1. Supply Chain Management - Strategy, Planning & Operation, Sunil Chopra, Peter Meindl, 6th Edition."
   ]
  }
 ],
 "metadata": {
  "kernelspec": {
   "display_name": "Python 3",
   "language": "python",
   "name": "python3"
  },
  "language_info": {
   "codemirror_mode": {
    "name": "ipython",
    "version": 3
   },
   "file_extension": ".py",
   "mimetype": "text/x-python",
   "name": "python",
   "nbconvert_exporter": "python",
   "pygments_lexer": "ipython3",
   "version": "3.7.6"
  }
 },
 "nbformat": 4,
 "nbformat_minor": 4
}
