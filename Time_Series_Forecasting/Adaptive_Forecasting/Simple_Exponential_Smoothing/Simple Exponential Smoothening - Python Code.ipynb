{
 "cells": [
  {
   "cell_type": "code",
   "execution_count": 1,
   "metadata": {},
   "outputs": [],
   "source": [
    "import numpy as np\n",
    "import pandas as pd\n",
    "import matplotlib.pyplot as plt"
   ]
  },
  {
   "cell_type": "code",
   "execution_count": 2,
   "metadata": {},
   "outputs": [],
   "source": [
    "class SimpleExpo():\n",
    "    \n",
    "    def __init__(self,n,t,alpha):\n",
    "        self.periods = n\n",
    "        self.period = t\n",
    "        self.demand_data = ['Dt']\n",
    "        self.alpha = alpha\n",
    "        self.level = {}\n",
    "        self.forecast = {}\n",
    "        self.forecast_error = {}\n",
    "        self.mean_squared_error = 'unknown'\n",
    "        self.mean_absolute_deviation = 'unknown'\n",
    "        self.std = 'unknown'\n",
    "        \n",
    "    def add_demand_data(self):\n",
    "        self.demand_data += list(map(float,input().split()))\n",
    "        \n",
    "    def perform_analysis(self):\n",
    "        \n",
    "        n = self.periods\n",
    "        t = self.period\n",
    "        Dt = self.demand_data\n",
    "        alpha = self.alpha\n",
    "        Lt = self.level\n",
    "        Ft = self.forecast\n",
    "        Et = self.forecast_error\n",
    "        \n",
    "        L0 = round(sum(Dt[1:n+1])/n,3)\n",
    "        Lt['L0'] = L0\n",
    "        \n",
    "        for i in range(1,t+1):\n",
    "            Ft['F'+str(i)] = Lt['L'+str(i-1)]\n",
    "            if(i == t):\n",
    "                break\n",
    "            else:\n",
    "                Et['E'+str(i)] = round(Ft['F'+str(i)] - Dt[i],3)\n",
    "                Lt['L'+str(i)] = round(alpha*Dt[i] + (1-alpha)*Lt['L'+str(i-1)],3)\n",
    "        \n",
    "        self.mean_squared_error = sum([i**2 for i in Et.values()])/n\n",
    "        self.mean_absolute_deviation = sum([abs(i) for i in Et.values()])/n\n",
    "        self.std = 1.25*self.mean_absolute_deviation\n",
    "        \n",
    "        print('Analysis Complete')"
   ]
  },
  {
   "cell_type": "markdown",
   "metadata": {},
   "source": [
    "------------------------------"
   ]
  },
  {
   "cell_type": "markdown",
   "metadata": {},
   "source": [
    "# Examples"
   ]
  },
  {
   "attachments": {
    "E1.png": {
     "image/png": "[encoded data removed]"
    }
   },
   "cell_type": "markdown",
   "metadata": {},
   "source": [
    "<b>Example - 1</b>\n",
    "Develop a forecast for the following data using simple exponential smoothing with an alpha of 0.66. Then calculate MAD & MSE.\n",
    "![E1.png](attachment:E1.png)"
   ]
  },
  {
   "cell_type": "code",
   "execution_count": 3,
   "metadata": {},
   "outputs": [],
   "source": [
    "s1 = SimpleExpo(10,11,0.66)"
   ]
  },
  {
   "cell_type": "code",
   "execution_count": 4,
   "metadata": {},
   "outputs": [
    {
     "data": {
      "text/plain": [
       "0.66"
      ]
     },
     "execution_count": 4,
     "metadata": {},
     "output_type": "execute_result"
    }
   ],
   "source": [
    "s1.alpha"
   ]
  },
  {
   "cell_type": "code",
   "execution_count": 5,
   "metadata": {},
   "outputs": [
    {
     "data": {
      "text/plain": [
       "11"
      ]
     },
     "execution_count": 5,
     "metadata": {},
     "output_type": "execute_result"
    }
   ],
   "source": [
    "s1.period"
   ]
  },
  {
   "cell_type": "code",
   "execution_count": 6,
   "metadata": {},
   "outputs": [
    {
     "data": {
      "text/plain": [
       "10"
      ]
     },
     "execution_count": 6,
     "metadata": {},
     "output_type": "execute_result"
    }
   ],
   "source": [
    "s1.periods"
   ]
  },
  {
   "cell_type": "code",
   "execution_count": 7,
   "metadata": {},
   "outputs": [
    {
     "data": {
      "text/plain": [
       "['Dt']"
      ]
     },
     "execution_count": 7,
     "metadata": {},
     "output_type": "execute_result"
    }
   ],
   "source": [
    "s1.demand_data"
   ]
  },
  {
   "cell_type": "code",
   "execution_count": 8,
   "metadata": {},
   "outputs": [
    {
     "data": {
      "text/plain": [
       "{}"
      ]
     },
     "execution_count": 8,
     "metadata": {},
     "output_type": "execute_result"
    }
   ],
   "source": [
    "s1.forecast"
   ]
  },
  {
   "cell_type": "code",
   "execution_count": 9,
   "metadata": {},
   "outputs": [
    {
     "data": {
      "text/plain": [
       "{}"
      ]
     },
     "execution_count": 9,
     "metadata": {},
     "output_type": "execute_result"
    }
   ],
   "source": [
    "s1.forecast_error"
   ]
  },
  {
   "cell_type": "code",
   "execution_count": 10,
   "metadata": {},
   "outputs": [
    {
     "data": {
      "text/plain": [
       "{}"
      ]
     },
     "execution_count": 10,
     "metadata": {},
     "output_type": "execute_result"
    }
   ],
   "source": [
    "s1.level"
   ]
  },
  {
   "cell_type": "code",
   "execution_count": 11,
   "metadata": {},
   "outputs": [
    {
     "name": "stdout",
     "output_type": "stream",
     "text": [
      "173 177 180 151 168 184 198 191 167 177\n"
     ]
    }
   ],
   "source": [
    "s1.add_demand_data()"
   ]
  },
  {
   "cell_type": "code",
   "execution_count": 12,
   "metadata": {},
   "outputs": [
    {
     "name": "stdout",
     "output_type": "stream",
     "text": [
      "Analysis Complete\n"
     ]
    }
   ],
   "source": [
    "s1.perform_analysis()"
   ]
  },
  {
   "cell_type": "code",
   "execution_count": 13,
   "metadata": {},
   "outputs": [
    {
     "data": {
      "text/plain": [
       "{'L0': 176.6,\n",
       " 'L1': 174.224,\n",
       " 'L2': 176.056,\n",
       " 'L3': 178.659,\n",
       " 'L4': 160.404,\n",
       " 'L5': 165.417,\n",
       " 'L6': 177.682,\n",
       " 'L7': 191.092,\n",
       " 'L8': 191.031,\n",
       " 'L9': 175.171,\n",
       " 'L10': 176.378}"
      ]
     },
     "execution_count": 13,
     "metadata": {},
     "output_type": "execute_result"
    }
   ],
   "source": [
    "s1.level"
   ]
  },
  {
   "cell_type": "code",
   "execution_count": 14,
   "metadata": {},
   "outputs": [
    {
     "data": {
      "text/plain": [
       "{'F1': 176.6,\n",
       " 'F2': 174.224,\n",
       " 'F3': 176.056,\n",
       " 'F4': 178.659,\n",
       " 'F5': 160.404,\n",
       " 'F6': 165.417,\n",
       " 'F7': 177.682,\n",
       " 'F8': 191.092,\n",
       " 'F9': 191.031,\n",
       " 'F10': 175.171,\n",
       " 'F11': 176.378}"
      ]
     },
     "execution_count": 14,
     "metadata": {},
     "output_type": "execute_result"
    }
   ],
   "source": [
    "s1.forecast"
   ]
  },
  {
   "cell_type": "code",
   "execution_count": 15,
   "metadata": {},
   "outputs": [
    {
     "data": {
      "text/plain": [
       "{'E1': 3.6,\n",
       " 'E2': -2.776,\n",
       " 'E3': -3.944,\n",
       " 'E4': 27.659,\n",
       " 'E5': -7.596,\n",
       " 'E6': -18.583,\n",
       " 'E7': -20.318,\n",
       " 'E8': 0.092,\n",
       " 'E9': 24.031,\n",
       " 'E10': -1.829}"
      ]
     },
     "execution_count": 15,
     "metadata": {},
     "output_type": "execute_result"
    }
   ],
   "source": [
    "s1.forecast_error"
   ]
  },
  {
   "cell_type": "code",
   "execution_count": 16,
   "metadata": {},
   "outputs": [
    {
     "data": {
      "text/plain": [
       "219.7932488"
      ]
     },
     "execution_count": 16,
     "metadata": {},
     "output_type": "execute_result"
    }
   ],
   "source": [
    "s1.mean_squared_error"
   ]
  },
  {
   "cell_type": "code",
   "execution_count": 17,
   "metadata": {},
   "outputs": [
    {
     "data": {
      "text/plain": [
       "11.042799999999998"
      ]
     },
     "execution_count": 17,
     "metadata": {},
     "output_type": "execute_result"
    }
   ],
   "source": [
    "s1.mean_absolute_deviation"
   ]
  },
  {
   "cell_type": "code",
   "execution_count": 18,
   "metadata": {},
   "outputs": [
    {
     "data": {
      "text/plain": [
       "13.803499999999998"
      ]
     },
     "execution_count": 18,
     "metadata": {},
     "output_type": "execute_result"
    }
   ],
   "source": [
    "s1.std"
   ]
  },
  {
   "cell_type": "markdown",
   "metadata": {},
   "source": [
    "-------------------------"
   ]
  },
  {
   "attachments": {
    "E2.png": {
     "image/png": "[encoded data removed]"
    }
   },
   "cell_type": "markdown",
   "metadata": {},
   "source": [
    "<b>Example - 2</b>\n",
    "![E2.png](attachment:E2.png)"
   ]
  },
  {
   "cell_type": "code",
   "execution_count": 19,
   "metadata": {},
   "outputs": [],
   "source": [
    "s2 = SimpleExpo(4,5,0.1)"
   ]
  },
  {
   "cell_type": "code",
   "execution_count": 20,
   "metadata": {},
   "outputs": [
    {
     "name": "stdout",
     "output_type": "stream",
     "text": [
      "120 127 114 122\n"
     ]
    }
   ],
   "source": [
    "s2.add_demand_data()"
   ]
  },
  {
   "cell_type": "code",
   "execution_count": 21,
   "metadata": {},
   "outputs": [
    {
     "name": "stdout",
     "output_type": "stream",
     "text": [
      "Analysis Complete\n"
     ]
    }
   ],
   "source": [
    "s2.perform_analysis()"
   ]
  },
  {
   "cell_type": "code",
   "execution_count": 22,
   "metadata": {},
   "outputs": [
    {
     "data": {
      "text/plain": [
       "{'L0': 120.75, 'L1': 120.675, 'L2': 121.308, 'L3': 120.577, 'L4': 120.719}"
      ]
     },
     "execution_count": 22,
     "metadata": {},
     "output_type": "execute_result"
    }
   ],
   "source": [
    "s2.level"
   ]
  },
  {
   "cell_type": "code",
   "execution_count": 23,
   "metadata": {},
   "outputs": [
    {
     "data": {
      "text/plain": [
       "{'F1': 120.75, 'F2': 120.675, 'F3': 121.308, 'F4': 120.577, 'F5': 120.719}"
      ]
     },
     "execution_count": 23,
     "metadata": {},
     "output_type": "execute_result"
    }
   ],
   "source": [
    "s2.forecast"
   ]
  },
  {
   "cell_type": "code",
   "execution_count": 24,
   "metadata": {},
   "outputs": [
    {
     "data": {
      "text/plain": [
       "{'E1': 0.75, 'E2': -6.325, 'E3': 7.308, 'E4': -1.423}"
      ]
     },
     "execution_count": 24,
     "metadata": {},
     "output_type": "execute_result"
    }
   ],
   "source": [
    "s2.forecast_error"
   ]
  },
  {
   "cell_type": "code",
   "execution_count": 25,
   "metadata": {},
   "outputs": [
    {
     "data": {
      "text/plain": [
       "23.9999795"
      ]
     },
     "execution_count": 25,
     "metadata": {},
     "output_type": "execute_result"
    }
   ],
   "source": [
    "s2.mean_squared_error"
   ]
  },
  {
   "cell_type": "code",
   "execution_count": 26,
   "metadata": {},
   "outputs": [
    {
     "data": {
      "text/plain": [
       "3.9515"
      ]
     },
     "execution_count": 26,
     "metadata": {},
     "output_type": "execute_result"
    }
   ],
   "source": [
    "s2.mean_absolute_deviation"
   ]
  },
  {
   "cell_type": "code",
   "execution_count": 27,
   "metadata": {},
   "outputs": [
    {
     "data": {
      "text/plain": [
       "4.939375"
      ]
     },
     "execution_count": 27,
     "metadata": {},
     "output_type": "execute_result"
    }
   ],
   "source": [
    "s2.std"
   ]
  },
  {
   "cell_type": "code",
   "execution_count": null,
   "metadata": {},
   "outputs": [],
   "source": []
  },
  {
   "cell_type": "markdown",
   "metadata": {},
   "source": [
    "--------------------END--------------------"
   ]
  },
  {
   "cell_type": "markdown",
   "metadata": {},
   "source": [
    "# References\n",
    "1. Supply Chain Management - Strategy, Planning & Operation, Sunil Chopra, Peter Meindl, 6th Edition."
   ]
  }
 ],
 "metadata": {
  "kernelspec": {
   "display_name": "Python 3",
   "language": "python",
   "name": "python3"
  },
  "language_info": {
   "codemirror_mode": {
    "name": "ipython",
    "version": 3
   },
   "file_extension": ".py",
   "mimetype": "text/x-python",
   "name": "python",
   "nbconvert_exporter": "python",
   "pygments_lexer": "ipython3",
   "version": "3.7.6"
  }
 },
 "nbformat": 4,
 "nbformat_minor": 4
}
