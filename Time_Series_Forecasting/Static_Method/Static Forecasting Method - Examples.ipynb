{
 "cells": [
  {
   "cell_type": "code",
   "execution_count": 1,
   "metadata": {},
   "outputs": [],
   "source": [
    "import numpy as np\n",
    "import pandas as pd\n",
    "import matplotlib.pyplot as plt"
   ]
  },
  {
   "cell_type": "code",
   "execution_count": 2,
   "metadata": {},
   "outputs": [],
   "source": [
    "class StaticMethod():\n",
    "    \n",
    "    def __init__(self,p,r):\n",
    "        self.periodicity = p # Periodicity\n",
    "        self.seasonal_cycles = r # Number of seasonal cycles\n",
    "        self.time_periods = ['t'] # Time Period (t)\n",
    "        self.demand_data = ['Dt'] # Demand Data (Dt)\n",
    "        self.estimated_level = 'unknown' # Level estimated from Linear Regression; initially \"unknown\"\n",
    "        self.estimated_trend = 'unknown' # Trend estimated from Linear Regression; initially \"unknown\"\n",
    "        self.deseasonalized_demands = [] # Deseasonalized Demand Data (DDt)\n",
    "        self.seasonal_factors = [] # Seasonal Factors (SSt)\n",
    "        self.seasonal_factor_for_given_period = [] # Seasonal Factors (Si)\n",
    "        self.forecast_for_next_p_periods = [] # Forecast for next \"p\" periods\n",
    "        \n",
    "    def add_time_period(self): # Enables the user to add data of Time Period\n",
    "        self.time_periods = self.time_periods+list(map(int,input().split()))\n",
    "        \n",
    "    def add_demand_data(self): # Enables the user to add Demand Data\n",
    "        self.demand_data = self.demand_data+list(map(float,input().split()))\n",
    "        \n",
    "    def perform_analysis(self): # Performs the remaining Static Method Time-Series Forecasting Method\n",
    "        \n",
    "        p = self.periodicity # Period\n",
    "        \n",
    "        # If p is even\n",
    "        if(p%2 == 0):\n",
    "            Dt = self.demand_data # Demand Data\n",
    "            t_initial = int(1 + (p/2)) # Initial period \"t\" for Deseasonalized demand\n",
    "            t_final = int(len(self.time_periods) - 1 - (p/2)) # Final period \"t\" for Deseasonalized demand\n",
    "            DDt = ['DDt'] # Initiating Deseasonalized Demand\n",
    "            DDt = DDt+['unknown' for i in range(len(self.demand_data)-1)] # Deseasonalized Demand\n",
    "            \n",
    "            # Calculating Deseasonalized Demand from Demand Data\n",
    "            for i in range(t_initial,t_final+1):\n",
    "                DDt[i] = (Dt[int(i-(p/2))] + Dt[int(i+(p/2))] + 2*(sum(Dt[int(i+1-(p/2)):int(i+(p/2))])))/(2*p)\n",
    "            \n",
    "            self.deseasonalized_demands = DDt # Deseasonalized Demand\n",
    "            \n",
    "            # Running Linear Regression for finding Level & Trend\n",
    "            \n",
    "            sum_t = sum(range(t_initial,t_final+1)) # Sum of time periods\n",
    "            sum_DDt = sum(DDt[t_initial:t_final+1]) # Sum of Deseasonalized Demands\n",
    "            \n",
    "            mean_t = sum_t/(len(range(t_initial,t_final+1))) # Mean of time periods\n",
    "            mean_DDt = sum_DDt/len(DDt[t_initial:t_final+1]) # Mean of Deseasonalized Demand\n",
    "            \n",
    "            diff_t = [i-mean_t for i in range(t_initial,t_final+1)] # Difference of time periods & their mean\n",
    "            diff_DDt = [DDt[i]-mean_DDt for i in range(t_initial,t_final+1)] # Difference of Deseasonalized Demand & their mean\n",
    "            \n",
    "            sos_t = sum([i**2 for i in diff_t]) # Sum of squares of Differences of time periods & their mean\n",
    "            \n",
    "            # Sum of products of 'Differences of time periods & their mean' \n",
    "            # and 'Difference of Deseasonalized Demand & their mean'\n",
    "            sop = sum([diff_t[i]*diff_DDt[i] for i in range(len(diff_t))])\n",
    "            \n",
    "            # Slope of the Regression model between DDt & t\n",
    "            slope = sop/sos_t\n",
    "            self.estimated_trend = round(slope,0)\n",
    "            \n",
    "            # Intercept of the Regression model between DDt & t\n",
    "            intercept = mean_DDt - slope*mean_t\n",
    "            self.estimated_level = round(intercept,0)\n",
    "            \n",
    "            # Results of the Regression Model\n",
    "            print('Linear Regression of Deseasonalized Demand & Time Period')\n",
    "            print('DDt = {}*t + {}'.format(round(slope,0),round(intercept,0)))\n",
    "            print('where -')\n",
    "            print('Level = ',round(intercept,0))\n",
    "            print('Trend = ',round(slope,0))\n",
    "            print()\n",
    "            \n",
    "            # Finding \"unknown\" values in Deseasonalized Demand\n",
    "            for i in range(len(DDt)):\n",
    "                if(DDt[i] == 'unknown'):\n",
    "                    DDt[i] = round(slope,0)*self.time_periods[i]+round(intercept,0)\n",
    "                else:\n",
    "                    pass\n",
    "            \n",
    "            # Estimating Seasonal Factors SSt\n",
    "            SSt = ['SSt']\n",
    "            SSt = SSt + list(['unknown' for i in range(len(Dt)-1)])\n",
    "            \n",
    "            for i in range(1,len(Dt)):\n",
    "                if(DDt[i] != 0):\n",
    "                    SSt[i] = round(Dt[i]/DDt[i],2)\n",
    "                else:\n",
    "                    pass\n",
    "            self.seasonal_factors = SSt\n",
    "            \n",
    "            # Estimating Seasonal Factors based on seasonal cycles & periods\n",
    "            Si = ['Si']\n",
    "            Si = Si + ['unknown' for i in range(p)]\n",
    "            for i in range(1,p+1):\n",
    "                s = 0\n",
    "                for j in range(self.seasonal_cycles):\n",
    "                    s = s + SSt[j*p+i]\n",
    "                Si[i] = round(s/self.seasonal_cycles,2)\n",
    "            \n",
    "            self.seasonal_factor_for_given_period = Si\n",
    "            \n",
    "            # Predicting Forecast for next \"p\" periods after final t periods\n",
    "            F = {}\n",
    "            for i in range(1,p+1):\n",
    "                F['F'+str(self.time_periods[-1]+i)] = round((round(intercept,0)+round(slope,0)*(self.time_periods[-1]+i))*Si[i],0)\n",
    "                \n",
    "            self.forecast_for_next_p_periods = F\n",
    "            print()\n",
    "            \n",
    "            # Tabulation\n",
    "            df = pd.DataFrame({'Time Period':self.time_periods,\n",
    "                               'Actual Demand':self.demand_data,\n",
    "                               'Deseasonalized Demand':self.deseasonalized_demands,\n",
    "                               'Seasonal Factors':self.seasonal_factors})\n",
    "            df.set_index('Time Period',inplace=True)\n",
    "            print(df)\n",
    "            print()\n",
    "            # Plotting Demand VS Time Period\n",
    "            \n",
    "            y1 = np.array(Dt[1:])\n",
    "            y2 = np.array(DDt[1:])\n",
    "            x = np.array(self.time_periods[1:])\n",
    "            plt.plot(x,y1,label='Actual Demand')\n",
    "            plt.plot(x,y2,label='Deseasonalized Demand')\n",
    "            plt.xlabel('Period'),plt.ylabel('Demand'),plt.title('Demand - Time Period Graphic')\n",
    "            plt.xlim([self.time_periods[1],self.time_periods[-1]]),plt.legend()\n",
    "            print()\n",
    "            print('Analysis Complete')\n",
    "            \n",
    "        elif(p%2 != 0):\n",
    "            \n",
    "            Dt = self.demand_data # Demand Data\n",
    "            t_initial = int(1 + ((p-1)/2)) # Initial period \"t\" for Deseasonalized demand\n",
    "            t_final = int(len(self.time_periods) - 1 - ((p-1)/2)) # Final period \"t\" for Deseasonalized demand\n",
    "            DDt = ['DDt'] # Initiating Deseasonalized Demand\n",
    "            DDt = DDt+['unknown' for i in range(len(Dt)-1)] # Deseasonalized Demand\n",
    "            \n",
    "            # Calculating Deseasonalized Demand from Demand Data\n",
    "            for i in range(t_initial,t_final+1):\n",
    "                DDt[i] = sum(Dt[t_initial:t_final+1])/p\n",
    "            \n",
    "            self.deseasonalized_demands = DDt # Deseasonalized Demand\n",
    "            \n",
    "            # Running Linear Regression for finding Level & Trend\n",
    "            \n",
    "            sum_t = sum(range(t_initial,t_final+1)) # Sum of time periods\n",
    "            sum_DDt = sum(DDt[t_initial:t_final+1]) # Sum of Deseasonalized Demands\n",
    "            \n",
    "            mean_t = sum_t/(len(range(t_initial,t_final+1))) # Mean of time periods\n",
    "            mean_DDt = sum_DDt/len(DDt[t_initial:t_final+1]) # Mean of Deseasonalized Demand\n",
    "            \n",
    "            diff_t = [i-mean_t for i in range(t_initial,t_final+1)] # Difference of time periods & their mean\n",
    "            diff_DDt = [DDt[i]-mean_DDt for i in range(t_initial,t_final+1)] # Difference of Deseasonalized Demand & their mean\n",
    "            \n",
    "            sos_t = sum([i**2 for i in diff_t]) # Sum of squares of Differences of time periods & their mean\n",
    "            \n",
    "            # Sum of products of 'Differences of time periods & their mean' \n",
    "            # and 'Difference of Deseasonalized Demand & their mean'\n",
    "            sop = sum([diff_t[i]*diff_DDt[i] for i in range(len(diff_t))])\n",
    "            \n",
    "            # Slope of the Regression model between DDt & t\n",
    "            slope = sop/sos_t\n",
    "            self.estimated_trend = round(slope,0)\n",
    "            \n",
    "            # Intercept of the Regression model between DDt & t\n",
    "            intercept = mean_DDt - slope*mean_t\n",
    "            self.estimated_level = round(intercept,0)\n",
    "            \n",
    "            # Results of the Regression Model\n",
    "            print('Linear Regression of Deseasonalized Demand & Time Period')\n",
    "            print('DDt = {}*t + {}'.format(round(slope,0),round(intercept,0)))\n",
    "            print('where -')\n",
    "            print('Level = ',round(intercept,0))\n",
    "            print('Trend = ',round(slope,0))\n",
    "            print()\n",
    "            \n",
    "            # Finding \"unknown\" values in Deseasonalized Demand\n",
    "            for i in range(len(DDt)):\n",
    "                if(DDt[i] == 'unknown'):\n",
    "                    DDt[i] = round(slope,0)*self.time_periods[i]+round(intercept,0)\n",
    "                else:\n",
    "                    pass\n",
    "            \n",
    "            # Estimating Seasonal Factors SSt\n",
    "            SSt = ['SSt']\n",
    "            SSt = SSt + list(['unknown' for i in range(len(Dt)-1)])\n",
    "            \n",
    "            for i in range(1,len(Dt)):\n",
    "                if(DDt[i] != 0):\n",
    "                    SSt[i] = round(Dt[i]/DDt[i],2)\n",
    "                else:\n",
    "                    pass\n",
    "            self.seasonal_factors = SSt\n",
    "            \n",
    "            # Estimating Seasonal Factors based on seasonal cycles & periods\n",
    "            Si = ['Si']\n",
    "            Si = Si + ['unknown' for i in range(p)]\n",
    "            for i in range(1,p+1):\n",
    "                s = 0\n",
    "                for j in range(self.seasonal_cycles):\n",
    "                    s = s + SSt[j*p+i]\n",
    "                Si[i] = round(s/self.seasonal_cycles,2)\n",
    "            \n",
    "            self.seasonal_factor_for_given_period = Si\n",
    "            \n",
    "            # Predicting Forecast for next \"p\" periods after final t periods\n",
    "            F = {}\n",
    "            for i in range(1,p+1):\n",
    "                F['F'+str(self.time_periods[-1]+i)] = round((round(intercept,0)+round(slope,0)*(self.time_periods[-1]+i))*Si[i],0)\n",
    "                \n",
    "            self.forecast_for_next_p_periods = F\n",
    "            print()\n",
    "            # Tabulation\n",
    "            df = pd.DataFrame({'Time Period':self.time_periods,\n",
    "                               'Actual Demand':self.demand_data,\n",
    "                               'Deseasonalized Demand':self.deseasonalized_demands,\n",
    "                               'Seasonal Factors':self.seasonal_factors})\n",
    "            df.set_index('Time Period',inplace=True)\n",
    "            print(df)\n",
    "            print()\n",
    "            # Plotting Demand VS Time Period\n",
    "            \n",
    "            y1 = np.array(Dt[1:])\n",
    "            y2 = np.array(DDt[1:])\n",
    "            x = np.array(self.time_periods[1:])\n",
    "            plt.plot(x,y1,label='Actual Demand')\n",
    "            plt.plot(x,y2,label='Deseasonalized Demand')\n",
    "            plt.xlabel('Period'),plt.ylabel('Demand'),plt.title('Demand - Time Period Graphic')\n",
    "            plt.xlim([self.time_periods[1],self.time_periods[-1]]),plt.legend()\n",
    "            print()\n",
    "            print('Analysis Complete')\n",
    "            "
   ]
  },
  {
   "cell_type": "markdown",
   "metadata": {},
   "source": [
    "------------------------"
   ]
  },
  {
   "cell_type": "markdown",
   "metadata": {},
   "source": [
    "# Examples"
   ]
  },
  {
   "attachments": {
    "example-1.png": {
     "image/png": "[encoded data removed]"
    }
   },
   "cell_type": "markdown",
   "metadata": {},
   "source": [
    "<b>Example 1 :</b>\n",
    "![example-1.png](attachment:example-1.png)"
   ]
  },
  {
   "cell_type": "code",
   "execution_count": 3,
   "metadata": {},
   "outputs": [],
   "source": [
    "s1 = StaticMethod(4,2) # Periodicity = 4; Seasonal cycles = 2 i.e. 2 cycles with 4 periods in each cycle"
   ]
  },
  {
   "cell_type": "code",
   "execution_count": 4,
   "metadata": {},
   "outputs": [
    {
     "name": "stdout",
     "output_type": "stream",
     "text": [
      "1 2 3 4 5 6 7 8\n"
     ]
    }
   ],
   "source": [
    "s1.add_time_period()"
   ]
  },
  {
   "cell_type": "code",
   "execution_count": 5,
   "metadata": {},
   "outputs": [
    {
     "name": "stdout",
     "output_type": "stream",
     "text": [
      "120 125 130 115 125 130 135 120\n"
     ]
    }
   ],
   "source": [
    "s1.add_demand_data()"
   ]
  },
  {
   "cell_type": "code",
   "execution_count": 6,
   "metadata": {},
   "outputs": [
    {
     "data": {
      "text/plain": [
       "4"
      ]
     },
     "execution_count": 6,
     "metadata": {},
     "output_type": "execute_result"
    }
   ],
   "source": [
    "s1.periodicity"
   ]
  },
  {
   "cell_type": "code",
   "execution_count": 7,
   "metadata": {},
   "outputs": [
    {
     "data": {
      "text/plain": [
       "2"
      ]
     },
     "execution_count": 7,
     "metadata": {},
     "output_type": "execute_result"
    }
   ],
   "source": [
    "s1.seasonal_cycles"
   ]
  },
  {
   "cell_type": "code",
   "execution_count": 8,
   "metadata": {},
   "outputs": [
    {
     "data": {
      "text/plain": [
       "['t', 1, 2, 3, 4, 5, 6, 7, 8]"
      ]
     },
     "execution_count": 8,
     "metadata": {},
     "output_type": "execute_result"
    }
   ],
   "source": [
    "s1.time_periods"
   ]
  },
  {
   "cell_type": "code",
   "execution_count": 9,
   "metadata": {},
   "outputs": [
    {
     "data": {
      "text/plain": [
       "['Dt', 120.0, 125.0, 130.0, 115.0, 125.0, 130.0, 135.0, 120.0]"
      ]
     },
     "execution_count": 9,
     "metadata": {},
     "output_type": "execute_result"
    }
   ],
   "source": [
    "s1.demand_data"
   ]
  },
  {
   "cell_type": "code",
   "execution_count": 10,
   "metadata": {},
   "outputs": [
    {
     "data": {
      "text/plain": [
       "[]"
      ]
     },
     "execution_count": 10,
     "metadata": {},
     "output_type": "execute_result"
    }
   ],
   "source": [
    "s1.deseasonalized_demands"
   ]
  },
  {
   "cell_type": "code",
   "execution_count": 11,
   "metadata": {},
   "outputs": [
    {
     "data": {
      "text/plain": [
       "'unknown'"
      ]
     },
     "execution_count": 11,
     "metadata": {},
     "output_type": "execute_result"
    }
   ],
   "source": [
    "s1.estimated_level"
   ]
  },
  {
   "cell_type": "code",
   "execution_count": 12,
   "metadata": {},
   "outputs": [
    {
     "data": {
      "text/plain": [
       "'unknown'"
      ]
     },
     "execution_count": 12,
     "metadata": {},
     "output_type": "execute_result"
    }
   ],
   "source": [
    "s1.estimated_trend"
   ]
  },
  {
   "cell_type": "code",
   "execution_count": 13,
   "metadata": {},
   "outputs": [
    {
     "data": {
      "text/plain": [
       "[]"
      ]
     },
     "execution_count": 13,
     "metadata": {},
     "output_type": "execute_result"
    }
   ],
   "source": [
    "s1.seasonal_factors"
   ]
  },
  {
   "cell_type": "code",
   "execution_count": 14,
   "metadata": {},
   "outputs": [
    {
     "data": {
      "text/plain": [
       "[]"
      ]
     },
     "execution_count": 14,
     "metadata": {},
     "output_type": "execute_result"
    }
   ],
   "source": [
    "s1.seasonal_factor_for_given_period"
   ]
  },
  {
   "cell_type": "code",
   "execution_count": 15,
   "metadata": {},
   "outputs": [
    {
     "data": {
      "text/plain": [
       "[]"
      ]
     },
     "execution_count": 15,
     "metadata": {},
     "output_type": "execute_result"
    }
   ],
   "source": [
    "s1.forecast_for_next_p_periods"
   ]
  },
  {
   "cell_type": "code",
   "execution_count": 16,
   "metadata": {},
   "outputs": [
    {
     "name": "stdout",
     "output_type": "stream",
     "text": [
      "Linear Regression of Deseasonalized Demand & Time Period\n",
      "DDt = 1.0*t + 119.0\n",
      "where -\n",
      "Level =  119.0\n",
      "Trend =  1.0\n",
      "\n",
      "\n",
      "            Actual Demand Deseasonalized Demand Seasonal Factors\n",
      "Time Period                                                     \n",
      "t                      Dt                   DDt              SSt\n",
      "1                     120                   120                1\n",
      "2                     125                   121             1.03\n",
      "3                     130               123.125             1.06\n",
      "4                     115               124.375             0.92\n",
      "5                     125               125.625                1\n",
      "6                     130               126.875             1.02\n",
      "7                     135                   126             1.07\n",
      "8                     120                   127             0.94\n",
      "\n",
      "\n",
      "Analysis Complete\n"
     ]
    },
    {
     "data": {
      "image/png": "[encoded data removed]",
      "text/plain": [
       "<Figure size 432x288 with 1 Axes>"
      ]
     },
     "metadata": {
      "needs_background": "light"
     },
     "output_type": "display_data"
    }
   ],
   "source": [
    "s1.perform_analysis()"
   ]
  },
  {
   "cell_type": "code",
   "execution_count": 17,
   "metadata": {},
   "outputs": [
    {
     "data": {
      "text/plain": [
       "['DDt', 120.0, 121.0, 123.125, 124.375, 125.625, 126.875, 126.0, 127.0]"
      ]
     },
     "execution_count": 17,
     "metadata": {},
     "output_type": "execute_result"
    }
   ],
   "source": [
    "s1.deseasonalized_demands"
   ]
  },
  {
   "cell_type": "code",
   "execution_count": 18,
   "metadata": {},
   "outputs": [
    {
     "data": {
      "text/plain": [
       "119.0"
      ]
     },
     "execution_count": 18,
     "metadata": {},
     "output_type": "execute_result"
    }
   ],
   "source": [
    "s1.estimated_level"
   ]
  },
  {
   "cell_type": "code",
   "execution_count": 19,
   "metadata": {},
   "outputs": [
    {
     "data": {
      "text/plain": [
       "1.0"
      ]
     },
     "execution_count": 19,
     "metadata": {},
     "output_type": "execute_result"
    }
   ],
   "source": [
    "s1.estimated_trend"
   ]
  },
  {
   "cell_type": "code",
   "execution_count": 20,
   "metadata": {},
   "outputs": [
    {
     "data": {
      "text/plain": [
       "['SSt', 1.0, 1.03, 1.06, 0.92, 1.0, 1.02, 1.07, 0.94]"
      ]
     },
     "execution_count": 20,
     "metadata": {},
     "output_type": "execute_result"
    }
   ],
   "source": [
    "s1.seasonal_factors"
   ]
  },
  {
   "cell_type": "code",
   "execution_count": 21,
   "metadata": {},
   "outputs": [
    {
     "data": {
      "text/plain": [
       "['Si', 1.0, 1.02, 1.06, 0.93]"
      ]
     },
     "execution_count": 21,
     "metadata": {},
     "output_type": "execute_result"
    }
   ],
   "source": [
    "s1.seasonal_factor_for_given_period"
   ]
  },
  {
   "cell_type": "code",
   "execution_count": 22,
   "metadata": {},
   "outputs": [
    {
     "data": {
      "text/plain": [
       "{'F9': 128.0, 'F10': 132.0, 'F11': 138.0, 'F12': 122.0}"
      ]
     },
     "execution_count": 22,
     "metadata": {},
     "output_type": "execute_result"
    }
   ],
   "source": [
    "s1.forecast_for_next_p_periods"
   ]
  },
  {
   "cell_type": "markdown",
   "metadata": {},
   "source": [
    "-------------------------------"
   ]
  },
  {
   "attachments": {
    "example-2.png": {
     "image/png": "[encoded data removed]"
    }
   },
   "cell_type": "markdown",
   "metadata": {},
   "source": [
    "<b>Example 2 :</b>\n",
    "Forecast demand for the next 4 quarters using Static Method for the following Data:\n",
    "![example-2.png](attachment:example-2.png)"
   ]
  },
  {
   "cell_type": "code",
   "execution_count": 23,
   "metadata": {},
   "outputs": [],
   "source": [
    "s2 = StaticMethod(4,3) # Periodicity = 4; Seasonal cycles =  i.e. 3 cycles with 4 periods in each cycle"
   ]
  },
  {
   "cell_type": "code",
   "execution_count": 24,
   "metadata": {},
   "outputs": [
    {
     "name": "stdout",
     "output_type": "stream",
     "text": [
      "1 2 3 4 5 6 7 8 9 10 11 12\n"
     ]
    }
   ],
   "source": [
    "s2.add_time_period()"
   ]
  },
  {
   "cell_type": "code",
   "execution_count": 25,
   "metadata": {},
   "outputs": [
    {
     "name": "stdout",
     "output_type": "stream",
     "text": [
      "8000 13000 23000 34000 10000 18000 23000 38000 12000 13000 32000 41000\n"
     ]
    }
   ],
   "source": [
    "s2.add_demand_data()"
   ]
  },
  {
   "cell_type": "code",
   "execution_count": 26,
   "metadata": {},
   "outputs": [
    {
     "data": {
      "text/plain": [
       "4"
      ]
     },
     "execution_count": 26,
     "metadata": {},
     "output_type": "execute_result"
    }
   ],
   "source": [
    "s2.periodicity"
   ]
  },
  {
   "cell_type": "code",
   "execution_count": 27,
   "metadata": {},
   "outputs": [
    {
     "data": {
      "text/plain": [
       "3"
      ]
     },
     "execution_count": 27,
     "metadata": {},
     "output_type": "execute_result"
    }
   ],
   "source": [
    "s2.seasonal_cycles"
   ]
  },
  {
   "cell_type": "code",
   "execution_count": 28,
   "metadata": {},
   "outputs": [
    {
     "data": {
      "text/plain": [
       "['t', 1, 2, 3, 4, 5, 6, 7, 8, 9, 10, 11, 12]"
      ]
     },
     "execution_count": 28,
     "metadata": {},
     "output_type": "execute_result"
    }
   ],
   "source": [
    "s2.time_periods"
   ]
  },
  {
   "cell_type": "code",
   "execution_count": 29,
   "metadata": {},
   "outputs": [
    {
     "data": {
      "text/plain": [
       "['Dt',\n",
       " 8000.0,\n",
       " 13000.0,\n",
       " 23000.0,\n",
       " 34000.0,\n",
       " 10000.0,\n",
       " 18000.0,\n",
       " 23000.0,\n",
       " 38000.0,\n",
       " 12000.0,\n",
       " 13000.0,\n",
       " 32000.0,\n",
       " 41000.0]"
      ]
     },
     "execution_count": 29,
     "metadata": {},
     "output_type": "execute_result"
    }
   ],
   "source": [
    "s2.demand_data"
   ]
  },
  {
   "cell_type": "code",
   "execution_count": 30,
   "metadata": {},
   "outputs": [
    {
     "name": "stdout",
     "output_type": "stream",
     "text": [
      "Linear Regression of Deseasonalized Demand & Time Period\n",
      "DDt = 524.0*t + 18439.0\n",
      "where -\n",
      "Level =  18439.0\n",
      "Trend =  524.0\n",
      "\n",
      "\n",
      "            Actual Demand Deseasonalized Demand Seasonal Factors\n",
      "Time Period                                                     \n",
      "t                      Dt                   DDt              SSt\n",
      "1                    8000                 18963             0.42\n",
      "2                   13000                 19487             0.67\n",
      "3                   23000                 19750             1.16\n",
      "4                   34000                 20625             1.65\n",
      "5                   10000                 21250             0.47\n",
      "6                   18000                 21750             0.83\n",
      "7                   23000                 22500             1.02\n",
      "8                   38000                 22125             1.72\n",
      "9                   12000                 22625             0.53\n",
      "10                  13000                 24125             0.54\n",
      "11                  32000                 24203             1.32\n",
      "12                  41000                 24727             1.66\n",
      "\n",
      "\n",
      "Analysis Complete\n"
     ]
    },
    {
     "data": {
      "image/png": "[encoded data removed]",
      "text/plain": [
       "<Figure size 432x288 with 1 Axes>"
      ]
     },
     "metadata": {
      "needs_background": "light"
     },
     "output_type": "display_data"
    }
   ],
   "source": [
    "s2.perform_analysis()"
   ]
  },
  {
   "cell_type": "code",
   "execution_count": 31,
   "metadata": {},
   "outputs": [
    {
     "data": {
      "text/plain": [
       "['DDt',\n",
       " 18963.0,\n",
       " 19487.0,\n",
       " 19750.0,\n",
       " 20625.0,\n",
       " 21250.0,\n",
       " 21750.0,\n",
       " 22500.0,\n",
       " 22125.0,\n",
       " 22625.0,\n",
       " 24125.0,\n",
       " 24203.0,\n",
       " 24727.0]"
      ]
     },
     "execution_count": 31,
     "metadata": {},
     "output_type": "execute_result"
    }
   ],
   "source": [
    "s2.deseasonalized_demands"
   ]
  },
  {
   "cell_type": "code",
   "execution_count": 32,
   "metadata": {},
   "outputs": [
    {
     "data": {
      "text/plain": [
       "18439.0"
      ]
     },
     "execution_count": 32,
     "metadata": {},
     "output_type": "execute_result"
    }
   ],
   "source": [
    "s2.estimated_level"
   ]
  },
  {
   "cell_type": "code",
   "execution_count": 33,
   "metadata": {},
   "outputs": [
    {
     "data": {
      "text/plain": [
       "524.0"
      ]
     },
     "execution_count": 33,
     "metadata": {},
     "output_type": "execute_result"
    }
   ],
   "source": [
    "s2.estimated_trend"
   ]
  },
  {
   "cell_type": "code",
   "execution_count": 34,
   "metadata": {},
   "outputs": [
    {
     "data": {
      "text/plain": [
       "['SSt', 0.42, 0.67, 1.16, 1.65, 0.47, 0.83, 1.02, 1.72, 0.53, 0.54, 1.32, 1.66]"
      ]
     },
     "execution_count": 34,
     "metadata": {},
     "output_type": "execute_result"
    }
   ],
   "source": [
    "s2.seasonal_factors"
   ]
  },
  {
   "cell_type": "code",
   "execution_count": 35,
   "metadata": {},
   "outputs": [
    {
     "data": {
      "text/plain": [
       "['Si', 0.47, 0.68, 1.17, 1.68]"
      ]
     },
     "execution_count": 35,
     "metadata": {},
     "output_type": "execute_result"
    }
   ],
   "source": [
    "s2.seasonal_factor_for_given_period"
   ]
  },
  {
   "cell_type": "code",
   "execution_count": 36,
   "metadata": {},
   "outputs": [
    {
     "data": {
      "text/plain": [
       "{'F13': 11868.0, 'F14': 17527.0, 'F15': 30770.0, 'F16': 45063.0}"
      ]
     },
     "execution_count": 36,
     "metadata": {},
     "output_type": "execute_result"
    }
   ],
   "source": [
    "s2.forecast_for_next_p_periods"
   ]
  },
  {
   "cell_type": "code",
   "execution_count": null,
   "metadata": {},
   "outputs": [],
   "source": []
  }
 ],
 "metadata": {
  "kernelspec": {
   "display_name": "Python 3",
   "language": "python",
   "name": "python3"
  },
  "language_info": {
   "codemirror_mode": {
    "name": "ipython",
    "version": 3
   },
   "file_extension": ".py",
   "mimetype": "text/x-python",
   "name": "python",
   "nbconvert_exporter": "python",
   "pygments_lexer": "ipython3",
   "version": "3.7.6"
  }
 },
 "nbformat": 4,
 "nbformat_minor": 4
}
